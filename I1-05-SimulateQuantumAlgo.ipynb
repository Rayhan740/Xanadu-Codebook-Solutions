{
 "cells": [
  {
   "cell_type": "code",
   "execution_count": 1,
   "id": "24f686df-fd3d-4c56-a9b4-6d69d1a0a9b2",
   "metadata": {},
   "outputs": [],
   "source": [
    "\"\"\"\n",
    "Xanadu Codebook\n",
    "Codercise I.1.5\n",
    "\n",
    "Author: Ashmit JaiSarita Gupta\n",
    "Date: 8th May, 2022\n",
    "\"\"\"\n",
    "\n",
    "from pennylane import numpy as np"
   ]
  },
  {
   "cell_type": "code",
   "execution_count": 5,
   "id": "800cb27e-e5b7-41b1-af5b-7ead4bf9f5c3",
   "metadata": {},
   "outputs": [],
   "source": [
    "# Defining a Quantum Operation\n",
    "U = np.array([[1, 1], [1, -1]]/np.sqrt(2))"
   ]
  },
  {
   "cell_type": "code",
   "execution_count": 6,
   "id": "1fe14ad7-bf86-4e39-93d6-8f4fc7e363d8",
   "metadata": {},
   "outputs": [],
   "source": [
    "def initialize_state():\n",
    "    # Prepare the state |0>\n",
    "    q0 = np.array([1, 0])\n",
    "    return q0"
   ]
  },
  {
   "cell_type": "code",
   "execution_count": 7,
   "id": "e0b0f5a4-7954-478b-81c6-ebc816bfdb50",
   "metadata": {},
   "outputs": [],
   "source": [
    "def apply_u(state):\n",
    "    # Apply a Quantum Operation U\n",
    "    return np.dot(U, state)"
   ]
  },
  {
   "cell_type": "code",
   "execution_count": 11,
   "id": "f7777f72-9e9e-4a76-8ead-8f2af398a504",
   "metadata": {},
   "outputs": [],
   "source": [
    "def measure_state(state, num_meas):\n",
    "    # Measure a Quantum State 'num_meas' times.\n",
    "    prob_0 = np.square(np.abs(state[0]))\n",
    "    prob_1 = np.square(np.abs(state[1]))\n",
    "    meas_outcome = np.random.choice([0, 1], p = [prob_0, prob_1], size=num_meas)\n",
    "    return meas_outcome"
   ]
  },
  {
   "cell_type": "code",
   "execution_count": 12,
   "id": "02ea9db2-3260-446b-a655-d428c6ffb7ee",
   "metadata": {},
   "outputs": [],
   "source": [
    "def quantum_algorithm():\n",
    "    q0 = initialize_state()\n",
    "    apply_u(q0)\n",
    "    return measure_state(q0, 100)"
   ]
  },
  {
   "cell_type": "code",
   "execution_count": 13,
   "id": "f4ef09c8-5ef5-4ae3-b43d-4118cc439d36",
   "metadata": {},
   "outputs": [
    {
     "name": "stdout",
     "output_type": "stream",
     "text": [
      "<function quantum_algorithm at 0x0000023F9FA1C940>\n"
     ]
    }
   ],
   "source": [
    "print(quantum_algorithm)"
   ]
  },
  {
   "cell_type": "code",
   "execution_count": null,
   "id": "fbe4f0aa-2f87-4197-a196-4e66c2fc4e23",
   "metadata": {},
   "outputs": [],
   "source": []
  }
 ],
 "metadata": {
  "kernelspec": {
   "display_name": "Python 3 (ipykernel)",
   "language": "python",
   "name": "python3"
  },
  "language_info": {
   "codemirror_mode": {
    "name": "ipython",
    "version": 3
   },
   "file_extension": ".py",
   "mimetype": "text/x-python",
   "name": "python",
   "nbconvert_exporter": "python",
   "pygments_lexer": "ipython3",
   "version": "3.10.4"
  }
 },
 "nbformat": 4,
 "nbformat_minor": 5
}
