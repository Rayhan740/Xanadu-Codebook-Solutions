{
 "cells": [
  {
   "cell_type": "code",
   "execution_count": 1,
   "id": "c214e326-49f2-4d2c-bce5-5f7eec893f51",
   "metadata": {},
   "outputs": [],
   "source": [
    "\"\"\"\n",
    "Xanadu Codebook\n",
    "Codercise I.1.3\n",
    "\n",
    "Author: Ashmit JaiSarita Gupta\n",
    "Date: 8th May, 2022\n",
    "\"\"\"\n",
    "\n",
    "from pennylane import numpy as np"
   ]
  },
  {
   "cell_type": "code",
   "execution_count": 2,
   "id": "3f359bca-77fe-44e6-8fb9-c3f0b4a3575e",
   "metadata": {},
   "outputs": [],
   "source": [
    "def measure_state(state, num_meas):\n",
    "    \"\"\"\n",
    "    Simulate a quantum measurement process.\n",
    "    \n",
    "    Args: \n",
    "        state (array[complex]): A normalized qubit state vector.\n",
    "        num_meas(int): The number of measurement to take.\n",
    "    \"\"\"\n",
    "\n",
    "    arr = [0, 1]\n",
    "    \n",
    "    # Computing measurement probabilities\n",
    "    prob_0 = np.square(np.abs(state[0])) #prob = square(|prob amplitude|)\n",
    "    prob_1 = np.square(np.abs(state[1]))\n",
    "    \n",
    "    measList = np.random.choice(arr, size = num_meas, p = [prob_0, prob_1])\n",
    "    \n",
    "    return measList"
   ]
  },
  {
   "cell_type": "code",
   "execution_count": 3,
   "id": "3dd94ea7-5cf0-4039-a404-40e31dcd3557",
   "metadata": {},
   "outputs": [
    {
     "name": "stdout",
     "output_type": "stream",
     "text": [
      "[0 0 0 1 1 1 0 1 1 0]\n"
     ]
    }
   ],
   "source": [
    "print(measure_state([1/np.sqrt(2), 1/np.sqrt(2)], 10))"
   ]
  },
  {
   "cell_type": "code",
   "execution_count": null,
   "id": "09c1dc2d-b5a1-4924-ae56-6c148f18dd34",
   "metadata": {},
   "outputs": [],
   "source": []
  }
 ],
 "metadata": {
  "kernelspec": {
   "display_name": "Python 3 (ipykernel)",
   "language": "python",
   "name": "python3"
  },
  "language_info": {
   "codemirror_mode": {
    "name": "ipython",
    "version": 3
   },
   "file_extension": ".py",
   "mimetype": "text/x-python",
   "name": "python",
   "nbconvert_exporter": "python",
   "pygments_lexer": "ipython3",
   "version": "3.10.4"
  }
 },
 "nbformat": 4,
 "nbformat_minor": 5
}
