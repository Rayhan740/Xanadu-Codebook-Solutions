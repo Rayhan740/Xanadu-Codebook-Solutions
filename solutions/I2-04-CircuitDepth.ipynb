{
 "cells": [
  {
   "cell_type": "code",
   "execution_count": 1,
   "id": "efaf8c8b-cebc-4b6a-b826-02857f4c93be",
   "metadata": {},
   "outputs": [],
   "source": [
    "\"\"\"\n",
    "Xanadu Codebook\n",
    "Codercise I.2.4\n",
    "\n",
    "Author: Ashmit JaiSarita Gupta\n",
    "Date: 8th May, 2022\n",
    "\"\"\"\n",
    "\n",
    "import pennylane as qml\n",
    "from pennylane import numpy as np"
   ]
  },
  {
   "cell_type": "code",
   "execution_count": 2,
   "id": "4b5de6da-4bae-4b42-903f-6a082a63a174",
   "metadata": {},
   "outputs": [],
   "source": [
    "# Creating a Device with 3 wires on which Pennylane can run computation\n",
    "dev = qml.device(\"default.qubit\", wires=3)\n",
    "\n",
    "# Decorating the function to turn it into a QNode\n",
    "@qml.qnode(dev)\n",
    "def my_circuit(theta, phi, omega):\n",
    "    qml.RX(theta, wires=0)\n",
    "    qml.RY(phi, wires=1)\n",
    "    qml.RZ(omega, wires=2)\n",
    "    qml.CNOT(wires=[0, 1])\n",
    "    qml.CNOT(wires=[1, 2])\n",
    "    qml.CNOT(wires=[2, 0])\n",
    "    return qml.probs(wires=[0, 1, 2])\n",
    "\n",
    "# Circuit Depth\n",
    "depth = 4"
   ]
  },
  {
   "cell_type": "code",
   "execution_count": null,
   "id": "78d9c638-34f2-4e52-9d51-07ee0c720230",
   "metadata": {},
   "outputs": [],
   "source": []
  }
 ],
 "metadata": {
  "kernelspec": {
   "display_name": "Python 3 (ipykernel)",
   "language": "python",
   "name": "python3"
  },
  "language_info": {
   "codemirror_mode": {
    "name": "ipython",
    "version": 3
   },
   "file_extension": ".py",
   "mimetype": "text/x-python",
   "name": "python",
   "nbconvert_exporter": "python",
   "pygments_lexer": "ipython3",
   "version": "3.10.4"
  }
 },
 "nbformat": 4,
 "nbformat_minor": 5
}
