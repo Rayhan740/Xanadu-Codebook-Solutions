{
 "cells": [
  {
   "cell_type": "code",
   "execution_count": 1,
   "id": "324eedb0-d215-456a-9a53-d1addde9f09d",
   "metadata": {},
   "outputs": [],
   "source": [
    "\"\"\"\n",
    "Xanadu Codebook\n",
    "Codercise I.4.3\n",
    "\n",
    "Author: Ashmit JaiSarita Gupta\n",
    "Date: 8th May, 2022\n",
    "\"\"\"\n",
    "\n",
    "import pennylane as qml\n",
    "from pennylane import numpy as np"
   ]
  },
  {
   "cell_type": "code",
   "execution_count": 2,
   "id": "e63ac9ab-17f7-495b-9c70-0223c4db0253",
   "metadata": {},
   "outputs": [
    {
     "name": "stdout",
     "output_type": "stream",
     "text": [
      "[0.70710678+0.j 0.70710678+0.j]\n",
      "[ 0.70710678+0.j -0.70710678+0.j]\n"
     ]
    }
   ],
   "source": [
    "# Create a Quantum Device\n",
    "device = qml.device('default.qubit', wires = 1)\n",
    "\n",
    "@qml.qnode(device)\n",
    "def apply_hadamard_to_state(state):\n",
    "    # A Quantum Node\n",
    "    \n",
    "    if(state == 1):\n",
    "        # Setting initial state of qubit 0 as |1>\n",
    "        qml.PauliX(wires=0)\n",
    "    \n",
    "    # Applying Hadamard Gate to Qubit 0\n",
    "    qml.Hadamard(wires=0)\n",
    "    \n",
    "    # printing final state\n",
    "    return qml.state()\n",
    "\n",
    "print(apply_hadamard_to_state(0));\n",
    "print(apply_hadamard_to_state(1));"
   ]
  },
  {
   "cell_type": "code",
   "execution_count": null,
   "id": "97add807-c3a5-405a-93d1-184489367327",
   "metadata": {},
   "outputs": [],
   "source": []
  }
 ],
 "metadata": {
  "kernelspec": {
   "display_name": "Python 3 (ipykernel)",
   "language": "python",
   "name": "python3"
  },
  "language_info": {
   "codemirror_mode": {
    "name": "ipython",
    "version": 3
   },
   "file_extension": ".py",
   "mimetype": "text/x-python",
   "name": "python",
   "nbconvert_exporter": "python",
   "pygments_lexer": "ipython3",
   "version": "3.10.4"
  }
 },
 "nbformat": 4,
 "nbformat_minor": 5
}
