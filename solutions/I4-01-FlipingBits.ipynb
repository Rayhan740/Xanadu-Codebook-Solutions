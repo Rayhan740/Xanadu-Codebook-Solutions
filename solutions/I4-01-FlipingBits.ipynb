{
 "cells": [
  {
   "cell_type": "code",
   "execution_count": 1,
   "id": "fbceaa32-4515-4be3-920b-3b9ef7b8fe9a",
   "metadata": {},
   "outputs": [],
   "source": [
    "\"\"\"\n",
    "Xanadu Codebook\n",
    "Codercise I.4.1\n",
    "\n",
    "Author: Ashmit JaiSarita Gupta\n",
    "Date: 8th May, 2022\n",
    "\"\"\"\n",
    "\n",
    "import pennylane as qml\n",
    "from pennylane import numpy as np"
   ]
  },
  {
   "cell_type": "code",
   "execution_count": 2,
   "id": "65a979ae-2a12-4437-b622-030d48441bee",
   "metadata": {},
   "outputs": [],
   "source": [
    "# create a quantum device\n",
    "dev = qml.device(\"default.qubit\", wires=1)\n",
    "\n",
    "# Create a Hadamard Gate\n",
    "# U = np.array([[1, 1], [1, -1]]) / qml.numpy.sqrt(2)\n",
    "# OR\n",
    "U = np.array([[1, 1], [1, -1]]) / np.sqrt(2)\n",
    "\n",
    "@qml.qnode(dev)\n",
    "def varied_initial_state(state):\n",
    "    #a quantum node\n",
    "    \n",
    "    if (state == 1):\n",
    "        # setting intial state of qubit 0 as |1>\n",
    "        qml.PauliX(wires=0)\n",
    "    \n",
    "    # Applying Unitary Operation U on qubit 0/ wire 0\n",
    "    qml.QubitUnitary(U, wires = 0)\n",
    "    \n",
    "    #return the final state\n",
    "    return qml.state()"
   ]
  },
  {
   "cell_type": "code",
   "execution_count": null,
   "id": "e4db8f2d-0240-46fc-9ed5-efdbf07a5f87",
   "metadata": {},
   "outputs": [],
   "source": []
  }
 ],
 "metadata": {
  "kernelspec": {
   "display_name": "Python 3 (ipykernel)",
   "language": "python",
   "name": "python3"
  },
  "language_info": {
   "codemirror_mode": {
    "name": "ipython",
    "version": 3
   },
   "file_extension": ".py",
   "mimetype": "text/x-python",
   "name": "python",
   "nbconvert_exporter": "python",
   "pygments_lexer": "ipython3",
   "version": "3.10.4"
  }
 },
 "nbformat": 4,
 "nbformat_minor": 5
}
