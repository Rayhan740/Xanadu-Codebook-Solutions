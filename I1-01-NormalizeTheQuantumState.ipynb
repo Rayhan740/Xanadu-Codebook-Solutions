{
 "cells": [
  {
   "cell_type": "code",
   "execution_count": 1,
   "id": "9c33e8bc-2d25-4ccd-b5cb-725d64ad0bcc",
   "metadata": {},
   "outputs": [],
   "source": [
    "\"\"\"\n",
    "Xanadu Codebook\n",
    "Codercise I.1.1\n",
    "\n",
    "Author: Ashmit JaiSarita Gupta\n",
    "Date: 8th May, 2022\n",
    "\"\"\"\n",
    "\n",
    "from pennylane import numpy as np"
   ]
  },
  {
   "cell_type": "code",
   "execution_count": 2,
   "id": "a7423416-777a-4365-a035-007a49b3ed57",
   "metadata": {},
   "outputs": [],
   "source": [
    "ket_0 = np.array([1, 0]) # |0>\n",
    "ket_1 = np.array([0, 1]) # |1>"
   ]
  },
  {
   "cell_type": "code",
   "execution_count": 3,
   "id": "4556a4ae-2544-452b-bb67-091d0c2e54a4",
   "metadata": {},
   "outputs": [],
   "source": [
    "def normalize_state(alpha, beta):\n",
    "    \n",
    "    sq = np.sqrt(np.sum(np.square([alpha, beta])))\n",
    "    pa = [alpha/sq, beta/sq] # Probability Amplitudes\n",
    "\n",
    "    return pa"
   ]
  },
  {
   "cell_type": "code",
   "execution_count": 4,
   "id": "d7cfccc1-4356-4398-a634-31d259d9db8e",
   "metadata": {},
   "outputs": [
    {
     "name": "stdout",
     "output_type": "stream",
     "text": [
      "[tensor(0.70710678, requires_grad=True), tensor(0.70710678, requires_grad=True)]\n"
     ]
    }
   ],
   "source": [
    "print(normalize_state(1, 1))"
   ]
  },
  {
   "cell_type": "code",
   "execution_count": null,
   "id": "3f5fa200-c6ba-4064-bde4-a3322c531545",
   "metadata": {},
   "outputs": [],
   "source": []
  }
 ],
 "metadata": {
  "kernelspec": {
   "display_name": "Python 3 (ipykernel)",
   "language": "python",
   "name": "python3"
  },
  "language_info": {
   "codemirror_mode": {
    "name": "ipython",
    "version": 3
   },
   "file_extension": ".py",
   "mimetype": "text/x-python",
   "name": "python",
   "nbconvert_exporter": "python",
   "pygments_lexer": "ipython3",
   "version": "3.10.4"
  }
 },
 "nbformat": 4,
 "nbformat_minor": 5
}
