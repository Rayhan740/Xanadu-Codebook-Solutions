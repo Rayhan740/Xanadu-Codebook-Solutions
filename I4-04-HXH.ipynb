{
 "cells": [
  {
   "cell_type": "code",
   "execution_count": 1,
   "id": "d477b811-f211-4951-9ec2-663169900c7f",
   "metadata": {},
   "outputs": [],
   "source": [
    "\"\"\"\n",
    "Xanadu Codebook\n",
    "Codercise I.4.4\n",
    "\n",
    "Author: Ashmit JaiSarita Gupta\n",
    "Date: 8th May, 2022\n",
    "\"\"\"\n",
    "\n",
    "import pennylane as qml\n",
    "from pennylane import numpy as np"
   ]
  },
  {
   "cell_type": "code",
   "execution_count": 2,
   "id": "5e3d1c4d-8e1b-48c9-adc1-6f55ee733f82",
   "metadata": {},
   "outputs": [
    {
     "name": "stdout",
     "output_type": "stream",
     "text": [
      "[1.+0.j 0.+0.j]\n",
      "[ 0.+0.j -1.+0.j]\n"
     ]
    }
   ],
   "source": [
    "# Creating Quantum Device\n",
    "dev = qml.device(\"default.qubit\", wires=1)\n",
    "\n",
    "@qml.qnode(dev)\n",
    "def apply_hxh(state):\n",
    "    # A Quantum Node\n",
    "    \n",
    "    if(state == 1):\n",
    "        # Setting intial state of qubit 0 as |1>\n",
    "        qml.PauliX(wires=0)\n",
    "    \n",
    "    # Applying |q> --- H -- X -- H ---\n",
    "    qml.Hadamard(wires = 0)\n",
    "    qml.PauliX(wires = 0)\n",
    "    qml.Hadamard(wires = 0)\n",
    "    \n",
    "    # Returning final state\n",
    "    return qml.state()\n",
    "\n",
    "print(apply_hxh(0))\n",
    "print(apply_hxh(1))"
   ]
  },
  {
   "cell_type": "code",
   "execution_count": null,
   "id": "ab315d68-cbfd-4d90-b82f-91021f7f6d3b",
   "metadata": {},
   "outputs": [],
   "source": []
  }
 ],
 "metadata": {
  "kernelspec": {
   "display_name": "Python 3 (ipykernel)",
   "language": "python",
   "name": "python3"
  },
  "language_info": {
   "codemirror_mode": {
    "name": "ipython",
    "version": 3
   },
   "file_extension": ".py",
   "mimetype": "text/x-python",
   "name": "python",
   "nbconvert_exporter": "python",
   "pygments_lexer": "ipython3",
   "version": "3.10.4"
  }
 },
 "nbformat": 4,
 "nbformat_minor": 5
}
